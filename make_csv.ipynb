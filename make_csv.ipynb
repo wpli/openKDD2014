{
 "metadata": {
  "name": "",
  "signature": "sha256:853ef40ee13f15e948fb93be4dccd06592da42f73cfd70f88082b137349ba9f4"
 },
 "nbformat": 3,
 "nbformat_minor": 0,
 "worksheets": [
  {
   "cells": [
    {
     "cell_type": "code",
     "collapsed": false,
     "input": [
      "import json\n",
      "with open( 'papers.json' ) as f:\n",
      "    \n",
      "    papers = json.load( f )"
     ],
     "language": "python",
     "metadata": {},
     "outputs": [],
     "prompt_number": 8
    },
    {
     "cell_type": "code",
     "collapsed": false,
     "input": [
      "data_tuples = []\n",
      "for key, val in papers.items():\n",
      "    tup = ( key, val['title'], \\\n",
      "           \", \".join( [ i['name'] for i in val['authors'] if i['name'] != ''] ), \\\n",
      "                     val['abstract'], \\\n",
      "                     val['keywords'] )\n",
      "    data_tuples.append( tup )"
     ],
     "language": "python",
     "metadata": {},
     "outputs": [],
     "prompt_number": 50
    },
    {
     "cell_type": "code",
     "collapsed": false,
     "input": [
      "from pandas import DataFrame\n",
      "import pandas\n",
      "\n",
      "dataframe = DataFrame( data_tuples )"
     ],
     "language": "python",
     "metadata": {},
     "outputs": [],
     "prompt_number": 56
    },
    {
     "cell_type": "code",
     "collapsed": false,
     "input": [
      "dataframe.to_excel( \"papers.xls\" )\n"
     ],
     "language": "python",
     "metadata": {},
     "outputs": [],
     "prompt_number": 58
    },
    {
     "cell_type": "code",
     "collapsed": false,
     "input": [
      "\n",
      "with open( 'papers.csv', 'w' ) as f:\n",
      "    for i in data_tuples:\n",
      "        f.write( \"\\t\".join( i ) + \"\\r\\n\" )"
     ],
     "language": "python",
     "metadata": {},
     "outputs": []
    }
   ],
   "metadata": {}
  }
 ]
}